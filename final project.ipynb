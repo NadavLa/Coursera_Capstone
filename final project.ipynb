{
 "cells": [
  {
   "cell_type": "markdown",
   "metadata": {},
   "source": [
    "# Introduction:"
   ]
  },
  {
   "cell_type": "markdown",
   "metadata": {},
   "source": [
    "background - \n",
    "Toronto, the capital of the province of Ontario, is a major Canadian city along Lake Ontario’s northwestern shore. It is a center of business and tourism, providing many opportunities for entrepreneurs.  "
   ]
  },
  {
   "cell_type": "markdown",
   "metadata": {},
   "source": [
    "the problem - \n",
    "a commercial group decided to build a new hotel in Toronto.\n",
    "they approached me in order to help them choose an optimal location for that hotel\n",
    "\n",
    "a good location for a hotel will be centrally located, not far from touristic attractions, \n",
    "in an area where there are many food and nightlife venues and not many hotels.\n",
    "let's find areas that fit these criteria !!"
   ]
  },
  {
   "cell_type": "markdown",
   "metadata": {},
   "source": [
    "interest - \n",
    "in this project we will identify main tourist attractions and venues in Toronto, we will then segment and cluster the different neighborhoods according to the above mentioned criteria (many food and nightlife venues, few hotels, close to main attractions), try to characterize the clusters and find which neighborhood will be an optimal location for our new hotel.\n",
    "this analysis may be usefull for any business in the tourism field since it characterizes neighborhoods according to touristic points of interest. so it can show us, not only optimal locations for new hotels but also other touristic venues such as tourist shops, guided tour centers etc.\n",
    "it may also be used by tourist visiting Toronto to point them to areas of interest and help them choose where to stay. "
   ]
  },
  {
   "cell_type": "markdown",
   "metadata": {},
   "source": [
    "# Data:"
   ]
  },
  {
   "cell_type": "markdown",
   "metadata": {},
   "source": [
    "For this project we will be using:"
   ]
  },
  {
   "cell_type": "markdown",
   "metadata": {},
   "source": [
    "A list of Toronto's postal codes and neighborhoods scraped from wikipedia page : 'https://en.wikipedia.org/wiki/List_of_postal_codes_of_Canada:_M'\n",
    "and their respective coordinates"
   ]
  },
  {
   "cell_type": "markdown",
   "metadata": {},
   "source": [
    "Foursquare API to find the top tourist attractions, food and nightlife venus and hotels"
   ]
  },
  {
   "cell_type": "markdown",
   "metadata": {},
   "source": [
    "finally, we will display the results using maps from the folium library for further understanding of the solution"
   ]
  },
  {
   "cell_type": "code",
   "execution_count": null,
   "metadata": {},
   "outputs": [],
   "source": []
  }
 ],
 "metadata": {
  "kernelspec": {
   "display_name": "Python 3",
   "language": "python",
   "name": "python3"
  },
  "language_info": {
   "codemirror_mode": {
    "name": "ipython",
    "version": 3
   },
   "file_extension": ".py",
   "mimetype": "text/x-python",
   "name": "python",
   "nbconvert_exporter": "python",
   "pygments_lexer": "ipython3",
   "version": "3.6.8"
  }
 },
 "nbformat": 4,
 "nbformat_minor": 2
}
